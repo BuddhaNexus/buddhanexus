{
 "cells": [
  {
   "cell_type": "markdown",
   "metadata": {},
   "source": [
    "# Current realtion of Pali Corpus and Metadata\n",
    "\n",
    "## 1. two issues with file count\n",
    "\n",
    "The current Pali metadata list of BN contains 6024 files"
   ]
  },
  {
   "cell_type": "code",
   "execution_count": 28,
   "metadata": {},
   "outputs": [
    {
     "data": {
      "text/plain": [
       "6024"
      ]
     },
     "execution_count": 28,
     "metadata": {},
     "output_type": "execute_result"
    }
   ],
   "source": [
    "import pandas as pd\n",
    "df = pd.read_json(\"../pli-files.json\")\n",
    "fn_from_df = df[\"filename\"].to_list()\n",
    "len(fn_from_df)"
   ]
  },
  {
   "cell_type": "markdown",
   "metadata": {},
   "source": [
    "The list of of files collected in https://github.com/BuddhaNexus/segmented-pali has 4258 files"
   ]
  },
  {
   "cell_type": "code",
   "execution_count": 13,
   "metadata": {},
   "outputs": [
    {
     "data": {
      "text/plain": [
       "4258"
      ]
     },
     "execution_count": 13,
     "metadata": {},
     "output_type": "execute_result"
    }
   ],
   "source": [
    "import os\n",
    "\n",
    "repo_files = []\n",
    "for p in os.listdir(\"/home/wo/bn/buddhanexus/data/segments\"):\n",
    "    repo_files.append(p.split(\".tsv\")[0])\n",
    "\n",
    "len(repo_files)"
   ]
  },
  {
   "cell_type": "markdown",
   "metadata": {},
   "source": [
    "... of which 134 files seem to be absent in the metadata but ..."
   ]
  },
  {
   "cell_type": "code",
   "execution_count": 14,
   "metadata": {},
   "outputs": [
    {
     "data": {
      "text/plain": [
       "134"
      ]
     },
     "execution_count": 14,
     "metadata": {},
     "output_type": "execute_result"
    }
   ],
   "source": [
    "diff = [fn for fn in repo_files if fn not in fn_from_df]\n",
    "len(diff)"
   ]
  },
  {
   "cell_type": "markdown",
   "metadata": {},
   "source": [
    "132 of them are actually collections of texts (chapters?) that are part of metadata in split form e.g.: 'anya-e0812n' of the repo corresponds to ['anya-e0812n0', 'anya-e0812n1', 'anya-e0812n2', 'anya-e0812n3', 'anya-e0812n4', 'anya-e0812n5'] in metadata.\n",
    "\n",
    "The full dictionary is attached as `pali_sections_of_metadata.txt`"
   ]
  },
  {
   "cell_type": "code",
   "execution_count": 20,
   "metadata": {},
   "outputs": [],
   "source": [
    "starts_with_dict = {}\n",
    "\n",
    "for d in diff:\n",
    "    starts_with_dict[d] = [f for f in fn_from_df if f.startswith(d)]"
   ]
  },
  {
   "cell_type": "markdown",
   "metadata": {},
   "source": [
    "In total there are 1899 files in metadata that are sections of some files in the repo. The two exceptions could be related to `pli-tv-bi-vb-sk1-75` of metadata"
   ]
  },
  {
   "cell_type": "code",
   "execution_count": 50,
   "metadata": {},
   "outputs": [
    {
     "name": "stdout",
     "output_type": "stream",
     "text": [
      "pli-tv-bi-vb-sk1\n",
      "pli-tv-bi-vb-sk75\n",
      "1899\n"
     ]
    }
   ],
   "source": [
    "def have_only_numeric_postfix(stem, lst_of_children):\n",
    "    if not lst_of_children:\n",
    "        return False\n",
    "    for ch in lst_of_children:\n",
    "        if not ch[len(stem):].isdigit():\n",
    "            return False\n",
    "    return True\n",
    "\n",
    "section_count = 0\n",
    "for k in starts_with_dict.keys():\n",
    "    if have_only_numeric_postfix(k, starts_with_dict[k]):\n",
    "        section_count +=  len(starts_with_dict[k])\n",
    "    else:\n",
    "        print(k)\n",
    "print(section_count)"
   ]
  },
  {
   "cell_type": "markdown",
   "metadata": {},
   "source": [
    "So if we take the matching repo files, add all \"sections\" (without the \"wholes\") and replace the `pli-tv-bi-vb-sk1` and `pli-tv-bi-vb-sk75` with `pli-tv-bi-vb-sk1-75` we get exact number of the metadata files"
   ]
  },
  {
   "cell_type": "code",
   "execution_count": 54,
   "metadata": {},
   "outputs": [
    {
     "data": {
      "text/plain": [
       "6024"
      ]
     },
     "execution_count": 54,
     "metadata": {},
     "output_type": "execute_result"
    }
   ],
   "source": [
    "len(repo_files) + (section_count - 132) - 2 +1"
   ]
  },
  {
   "cell_type": "markdown",
   "metadata": {},
   "source": [
    "## 2. one issue with file numbering \n",
    "\n",
    "at text called `Bhikkhunī Vibhaṅga Pācittiya 91–93` there is a jump in numbering from `2919` to `2922` although there many other files with aggregated section e.g. `Bhikkhunī Vibhaṅga Pāṭidesanīya 2–8` without any jumps. Thus the last number is 6026 instead of 6024."
   ]
  },
  {
   "cell_type": "markdown",
   "metadata": {},
   "source": [
    "## Conclusion\n",
    "\n",
    "The files seem to be fine apart from *two issius*:\n",
    "1. relation of `pli-tv-bi-vb-sk1` and `pli-tv-bi-vb-sk75 with` to `pli-tv-bi-vb-sk1-75`\n",
    "2. 132 split texts\n",
    "3. one jump in numbering"
   ]
  }
 ],
 "metadata": {
  "kernelspec": {
   "display_name": "dvarapandita-jupyter",
   "language": "python",
   "name": "dvarapandita"
  },
  "language_info": {
   "codemirror_mode": {
    "name": "ipython",
    "version": 3
   },
   "file_extension": ".py",
   "mimetype": "text/x-python",
   "name": "python",
   "nbconvert_exporter": "python",
   "pygments_lexer": "ipython3",
   "version": "3.10.12"
  }
 },
 "nbformat": 4,
 "nbformat_minor": 2
}
